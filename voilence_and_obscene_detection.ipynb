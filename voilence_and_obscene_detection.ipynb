{
 "cells": [
  {
   "cell_type": "code",
   "execution_count": 3,
   "id": "64aaaaa9",
   "metadata": {},
   "outputs": [],
   "source": ""
  },
  {
   "cell_type": "code",
   "execution_count": 2,
   "id": "3fea8884",
   "metadata": {},
   "outputs": [
    {
     "name": "stdout",
     "output_type": "stream",
     "text": [
      "Found 11669 files belonging to 3 classes.\n",
      "Found 2500 files belonging to 3 classes.\n"
     ]
    }
   ],
   "source": [
    "train_ds = keras.utils.image_dataset_from_directory(\n",
    "    directory = 'dataset/train',\n",
    "    labels=\"inferred\",\n",
    "    label_mode=\"int\",\n",
    "    class_names=None,\n",
    "    color_mode=\"rgb\",\n",
    "    batch_size=16,\n",
    "    image_size=(256, 256),\n",
    ")\n",
    "\n",
    "validation_ds = keras.utils.image_dataset_from_directory(\n",
    "    directory = 'dataset/val',\n",
    "    labels=\"inferred\",\n",
    "    label_mode=\"int\",\n",
    "    class_names=None,\n",
    "    color_mode=\"rgb\",\n",
    "    batch_size=16,\n",
    "    image_size=(256, 256),\n",
    ")"
   ]
  },
  {
   "cell_type": "code",
   "execution_count": 3,
   "id": "b1ebbec5",
   "metadata": {},
   "outputs": [],
   "source": [
    "# To test model on small scale\n",
    "\n",
    "# subset_size = 200\n",
    "# train_ds = train_ds.take(subset_size)\n",
    "# validation_ds = validation_ds.take(subset_size)"
   ]
  },
  {
   "cell_type": "code",
   "execution_count": 4,
   "id": "1421baf2",
   "metadata": {},
   "outputs": [],
   "source": [
    "# Normalize\n",
    "def process(image, label):\n",
    "    image = tf.cast(image/255. , tf.float32)\n",
    "    return image,label\n",
    "\n",
    "train_ds = train_ds.map(process)\n",
    "validation_ds = validation_ds.map(process)"
   ]
  },
  {
   "cell_type": "code",
   "execution_count": null,
   "id": "7d854f4d",
   "metadata": {},
   "outputs": [],
   "source": [
    "from keras import layers, models\n",
    "\n",
    "input_shape = (256, 256, 3)\n",
    "inputs = tf.keras.Input(shape=input_shape)\n",
    "\n",
    "x = layers.Conv2D(32, (3, 3), activation='relu', padding='same')(inputs)\n",
    "x = layers.BatchNormalization()(x)\n",
    "x = layers.MaxPooling2D((2, 2))(x)\n",
    "\n",
    "x = layers.Conv2D(64, (3, 3), activation='relu', padding='same')(x)\n",
    "x = layers.BatchNormalization()(x)\n",
    "x = layers.MaxPooling2D((2, 2))(x)\n",
    "\n",
    "x = layers.Conv2D(128, (3, 3), activation='relu', padding='same')(x)\n",
    "x = layers.BatchNormalization()(x)\n",
    "x = layers.MaxPooling2D((2, 2))(x)\n",
    "\n",
    "attention = layers.Conv2D(1, (1, 1), activation='sigmoid')(x)\n",
    "x = layers.Multiply()([x, attention])\n",
    "\n",
    "x = layers.GlobalAveragePooling2D()(x)\n",
    "x = layers.Dense(128, activation='relu')(x)\n",
    "x = layers.Dropout(0.4)(x)\n",
    "x = layers.Dense(64, activation='relu')(x)\n",
    "x = layers.Dropout(0.4)(x)\n",
    "outputs = layers.Dense(3, activation='softmax')(x)\n",
    "\n",
    "model = models.Model(inputs=inputs, outputs=outputs)\n"
   ]
  },
  {
   "cell_type": "code",
   "execution_count": 13,
   "id": "d7637a05",
   "metadata": {},
   "outputs": [
    {
     "name": "stdout",
     "output_type": "stream",
     "text": [
      "Model: \"model_1\"\n",
      "__________________________________________________________________________________________________\n",
      " Layer (type)                   Output Shape         Param #     Connected to                     \n",
      "==================================================================================================\n",
      " input_2 (InputLayer)           [(None, 256, 256, 3  0           []                               \n",
      "                                )]                                                                \n",
      "                                                                                                  \n",
      " conv2d_4 (Conv2D)              (None, 256, 256, 32  896         ['input_2[0][0]']                \n",
      "                                )                                                                 \n",
      "                                                                                                  \n",
      " batch_normalization_3 (BatchNo  (None, 256, 256, 32  128        ['conv2d_4[0][0]']               \n",
      " rmalization)                   )                                                                 \n",
      "                                                                                                  \n",
      " max_pooling2d_3 (MaxPooling2D)  (None, 128, 128, 32  0          ['batch_normalization_3[0][0]']  \n",
      "                                )                                                                 \n",
      "                                                                                                  \n",
      " conv2d_5 (Conv2D)              (None, 128, 128, 64  18496       ['max_pooling2d_3[0][0]']        \n",
      "                                )                                                                 \n",
      "                                                                                                  \n",
      " batch_normalization_4 (BatchNo  (None, 128, 128, 64  256        ['conv2d_5[0][0]']               \n",
      " rmalization)                   )                                                                 \n",
      "                                                                                                  \n",
      " max_pooling2d_4 (MaxPooling2D)  (None, 64, 64, 64)  0           ['batch_normalization_4[0][0]']  \n",
      "                                                                                                  \n",
      " conv2d_6 (Conv2D)              (None, 64, 64, 128)  73856       ['max_pooling2d_4[0][0]']        \n",
      "                                                                                                  \n",
      " batch_normalization_5 (BatchNo  (None, 64, 64, 128)  512        ['conv2d_6[0][0]']               \n",
      " rmalization)                                                                                     \n",
      "                                                                                                  \n",
      " max_pooling2d_5 (MaxPooling2D)  (None, 32, 32, 128)  0          ['batch_normalization_5[0][0]']  \n",
      "                                                                                                  \n",
      " conv2d_7 (Conv2D)              (None, 32, 32, 1)    129         ['max_pooling2d_5[0][0]']        \n",
      "                                                                                                  \n",
      " multiply_1 (Multiply)          (None, 32, 32, 128)  0           ['max_pooling2d_5[0][0]',        \n",
      "                                                                  'conv2d_7[0][0]']               \n",
      "                                                                                                  \n",
      " global_average_pooling2d_1 (Gl  (None, 128)         0           ['multiply_1[0][0]']             \n",
      " obalAveragePooling2D)                                                                            \n",
      "                                                                                                  \n",
      " dense_3 (Dense)                (None, 128)          16512       ['global_average_pooling2d_1[0][0\n",
      "                                                                 ]']                              \n",
      "                                                                                                  \n",
      " dropout_2 (Dropout)            (None, 128)          0           ['dense_3[0][0]']                \n",
      "                                                                                                  \n",
      " dense_4 (Dense)                (None, 64)           8256        ['dropout_2[0][0]']              \n",
      "                                                                                                  \n",
      " dropout_3 (Dropout)            (None, 64)           0           ['dense_4[0][0]']                \n",
      "                                                                                                  \n",
      " dense_5 (Dense)                (None, 3)            195         ['dropout_3[0][0]']              \n",
      "                                                                                                  \n",
      "==================================================================================================\n",
      "Total params: 119,236\n",
      "Trainable params: 118,788\n",
      "Non-trainable params: 448\n",
      "__________________________________________________________________________________________________\n"
     ]
    }
   ],
   "source": [
    "model.compile(optimizer='adam', loss='sparse_categorical_crossentropy', metrics=['accuracy'])\n",
    "\n",
    "model.summary()"
   ]
  },
  {
   "cell_type": "code",
   "execution_count": null,
   "id": "52575e7f",
   "metadata": {},
   "outputs": [],
   "source": [
    "from tensorflow.keras.callbacks import EarlyStopping, ModelCheckpoint\n",
    "\n",
    "early_stopping = EarlyStopping(\n",
    "    monitor='val_loss',\n",
    "    patience=2,              # wait for 2 epochs without improvement\n",
    "    restore_best_weights=True\n",
    ")\n",
    "\n",
    "checkpoint = ModelCheckpoint(\n",
    "    'best_model_4drop.h5',\n",
    "    save_best_only=True,\n",
    "    monitor='val_loss'\n",
    ")"
   ]
  },
  {
   "cell_type": "markdown",
   "id": "019360b2",
   "metadata": {},
   "source": [
    "| Dropout          | Test Accuracy | Validation Accuracy |\n",
    "|------------------|---------------|---------------------|\n",
    "| With Dropout (0.3) | 85%          | 87%                 |\n",
    "| Without Dropout   | 84%           | 86%                 |\n",
    "| With Dropout (0.2) | 90%          | 91%                 |\n"
   ]
  },
  {
   "cell_type": "code",
   "execution_count": 15,
   "id": "aca0a68e",
   "metadata": {},
   "outputs": [
    {
     "name": "stdout",
     "output_type": "stream",
     "text": [
      "Epoch 1/10\n"
     ]
    },
    {
     "name": "stdout",
     "output_type": "stream",
     "text": [
      "730/730 [==============================] - 96s 130ms/step - loss: 0.6219 - accuracy: 0.7199 - val_loss: 2.8274 - val_accuracy: 0.4452\n",
      "Epoch 2/10\n",
      "730/730 [==============================] - 135s 185ms/step - loss: 0.4130 - accuracy: 0.8256 - val_loss: 0.9406 - val_accuracy: 0.6276\n",
      "Epoch 3/10\n",
      "730/730 [==============================] - 140s 192ms/step - loss: 0.3115 - accuracy: 0.8741 - val_loss: 0.2286 - val_accuracy: 0.9168\n",
      "Epoch 4/10\n",
      "730/730 [==============================] - 152s 209ms/step - loss: 0.2440 - accuracy: 0.9047 - val_loss: 0.5329 - val_accuracy: 0.7916\n",
      "Epoch 5/10\n",
      "730/730 [==============================] - 151s 207ms/step - loss: 0.2162 - accuracy: 0.9212 - val_loss: 0.4274 - val_accuracy: 0.8400\n"
     ]
    }
   ],
   "source": [
    "history = model.fit(train_ds , epochs=10, validation_data = validation_ds, callbacks=[early_stopping, checkpoint])"
   ]
  },
  {
   "cell_type": "code",
   "execution_count": 10,
   "id": "9ac2699b",
   "metadata": {},
   "outputs": [
    {
     "name": "stdout",
     "output_type": "stream",
     "text": [
      "Found 2504 files belonging to 3 classes.\n"
     ]
    }
   ],
   "source": [
    "test_ds = keras.utils.image_dataset_from_directory(\n",
    "    directory = 'dataset/test',\n",
    "    labels=\"inferred\",\n",
    "    label_mode=\"int\",\n",
    "    class_names=None,\n",
    "    color_mode=\"rgb\",\n",
    "    batch_size=16,\n",
    "    image_size=(256, 256),\n",
    ")\n",
    "\n",
    "test_ds = test_ds.map(process)\n"
   ]
  },
  {
   "cell_type": "code",
   "execution_count": 16,
   "id": "03712800",
   "metadata": {},
   "outputs": [
    {
     "name": "stdout",
     "output_type": "stream",
     "text": [
      "157/157 [==============================] - 6s 34ms/step - loss: 0.2632 - accuracy: 0.9046\n",
      "Test Loss: 0.26318761706352234\n",
      "Test Accuracy: 0.904552698135376\n"
     ]
    }
   ],
   "source": [
    "loss, accuracy = model.evaluate(test_ds)\n",
    "print(f'Test Loss: {loss}')\n",
    "print(f'Test Accuracy: {accuracy}')"
   ]
  },
  {
   "cell_type": "code",
   "execution_count": 5,
   "id": "e92398c3",
   "metadata": {},
   "outputs": [],
   "source": [
    "model = keras.models.load_model('best_model_2drop.h5')"
   ]
  },
  {
   "cell_type": "code",
   "execution_count": 12,
   "id": "439969d5",
   "metadata": {},
   "outputs": [
    {
     "name": "stdout",
     "output_type": "stream",
     "text": [
      "1/1 [==============================] - 0s 36ms/step\n",
      "[[0.6703616  0.04246514 0.28717327]]\n"
     ]
    }
   ],
   "source": [
    "import cv2\n",
    "import numpy as np\n",
    "from PIL import Image\n",
    "def predict_image(image):\n",
    "    # Convert the PIL image to a format suitable for prediction\n",
    "    img_rgb = cv2.cvtColor(np.array(image), cv2.COLOR_BGR2RGB)\n",
    "    img_resized = cv2.resize(img_rgb, (256, 256))\n",
    "    img_input = img_resized.reshape((1, 256, 256, 3))\n",
    "    \n",
    "    # Normalize the image\n",
    "    img_input = img_input / 255.0\n",
    "\n",
    "    # Predict\n",
    "    prediction = model.predict(img_input)\n",
    "    \n",
    "    # Determine label and confidence\n",
    "    return prediction\n",
    "print(predict_image(Image.open(r'dataset\\test\\general\\2.jpg')))"
   ]
  },
  {
   "metadata": {},
   "cell_type": "code",
   "outputs": [],
   "execution_count": null,
   "source": "",
   "id": "b02ed5153468e759"
  }
 ],
 "metadata": {
  "kernelspec": {
   "display_name": ".venv",
   "language": "python",
   "name": "python3"
  },
  "language_info": {
   "codemirror_mode": {
    "name": "ipython",
    "version": 3
   },
   "file_extension": ".py",
   "mimetype": "text/x-python",
   "name": "python",
   "nbconvert_exporter": "python",
   "pygments_lexer": "ipython3",
   "version": "3.10.11"
  }
 },
 "nbformat": 4,
 "nbformat_minor": 5
}
